{
 "cells": [
  {
   "cell_type": "code",
   "execution_count": 2,
   "metadata": {},
   "outputs": [],
   "source": [
    "import numpy as np"
   ]
  },
  {
   "cell_type": "code",
   "execution_count": 9,
   "metadata": {},
   "outputs": [],
   "source": [
    "n = 10 # number of data points\n",
    "k = 3 # number of factors\n",
    "\n",
    "beta_true = np.array([10, 4, 1]) # (k, )\n",
    "X = np.random.rand(n, k)\n",
    "y = X @ beta_true"
   ]
  },
  {
   "cell_type": "code",
   "execution_count": 28,
   "metadata": {},
   "outputs": [
    {
     "name": "stdout",
     "output_type": "stream",
     "text": [
      "beta: [8 5 2], loss: 7.55369862330458\n",
      "beta: [8.49450632 4.69975682 1.77851609], loss: 4.206698791751079\n",
      "beta: [8.87081017 4.48828452 1.61559396], loss: 2.349021230333846\n",
      "beta: [9.15132176 4.3350533  1.4885086 ], loss: 1.316080443245009\n",
      "beta: [9.36122939 4.22519669 1.38970946], loss: 0.7405453453777032\n",
      "beta: [9.51838061 4.14693507 1.31246928], loss: 0.41900845716356283\n",
      "beta: [9.63616525 4.09168123 1.2518054 ], loss: 0.23874740878890097\n",
      "beta: [9.7245488  4.05311212 1.20392552], loss: 0.1372334282467299\n",
      "beta: [9.79095955 4.02658813 1.16594586], loss: 0.0797359120786957\n"
     ]
    }
   ],
   "source": [
    "beta = np.array([8, 5, 2])\n",
    "\n",
    "def gd(beta, lr):\n",
    "    dLdbeta = -2 * (y - X@beta).transpose() @ X\n",
    "    return beta - lr * dLdbeta\n",
    "\n",
    "lr = 0.1\n",
    "for i in range(1, 10):\n",
    "    L = (y - X@beta).transpose() @ (y - X@beta)\n",
    "    print(f\"beta: {beta}, loss: {L}\")\n",
    "    beta = gd(beta, lr)"
   ]
  },
  {
   "cell_type": "code",
   "execution_count": 23,
   "metadata": {},
   "outputs": [],
   "source": []
  },
  {
   "cell_type": "code",
   "execution_count": 24,
   "metadata": {},
   "outputs": [
    {
     "name": "stdout",
     "output_type": "stream",
     "text": [
      "[17.68442377  7.72837834  4.2904984 ] 406.8806983869559\n",
      "[11.66917817  3.18724384 -1.24707484] 13.107944297337948\n",
      "[11.71295728  3.90086109 -0.3059993 ] 5.106630313544473\n",
      "[11.25786022  3.97745484 -0.12669536] 2.999450174690435\n",
      "[10.96662929  4.0678368   0.07879457] 1.8079660542345384\n",
      "[10.74085423  4.11860325  0.23814692] 1.1099517911968075\n",
      "[10.5703566   4.14707688  0.3681635 ] 0.6948792451861303\n",
      "[10.44076369  4.15978768  0.47409462] 0.4439241485267111\n",
      "[10.34204391  4.16204255  0.56086505] 0.2893740422260296\n"
     ]
    }
   ],
   "source": []
  },
  {
   "cell_type": "code",
   "execution_count": null,
   "metadata": {},
   "outputs": [],
   "source": []
  }
 ],
 "metadata": {
  "kernelspec": {
   "display_name": "py6101",
   "language": "python",
   "name": "python3"
  },
  "language_info": {
   "codemirror_mode": {
    "name": "ipython",
    "version": 3
   },
   "file_extension": ".py",
   "mimetype": "text/x-python",
   "name": "python",
   "nbconvert_exporter": "python",
   "pygments_lexer": "ipython3",
   "version": "3.13.2"
  }
 },
 "nbformat": 4,
 "nbformat_minor": 2
}
